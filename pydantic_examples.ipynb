{
 "cells": [
  {
   "cell_type": "code",
   "execution_count": 13,
   "metadata": {},
   "outputs": [],
   "source": [
    "from pydantic import BaseModel, Field, field_validator, computed_field"
   ]
  },
  {
   "cell_type": "code",
   "execution_count": 20,
   "metadata": {},
   "outputs": [
    {
     "data": {
      "text/plain": [
       "Cat(name='egor', age=12, full_info='egor 12')"
      ]
     },
     "execution_count": 20,
     "metadata": {},
     "output_type": "execute_result"
    }
   ],
   "source": [
    "class Cat(BaseModel):\n",
    "    name: str\n",
    "    age: int\n",
    "\n",
    "    @field_validator('age')\n",
    "    def check_age(cls, value):\n",
    "        if value < 0:\n",
    "            raise ValueError(\"incorrect age\")\n",
    "        return value\n",
    "\n",
    "    @computed_field\n",
    "    def full_info(self) -> str:\n",
    "        return f\"{self.name} {self.age}\"\n",
    "\n",
    "\n",
    "cat = Cat(name=\"egor\", age=12)\n",
    "cat"
   ]
  },
  {
   "cell_type": "code",
   "execution_count": 32,
   "metadata": {},
   "outputs": [
    {
     "data": {
      "text/plain": [
       "{'id': 12, 'name': 'Strange', 'birthday_date': datetime.date(12, 3, 1)}"
      ]
     },
     "execution_count": 32,
     "metadata": {},
     "output_type": "execute_result"
    }
   ],
   "source": [
    "from datetime import date\n",
    "from pydantic import BaseModel, ConfigDict\n",
    "\n",
    "class User(BaseModel):\n",
    "    id: int\n",
    "    name: str = 'John Doe'\n",
    "    birthday_date: date\n",
    "\n",
    "    model_config = ConfigDict(from_attributes=True)\n",
    "# user = User.from_orm(orm_instance)\n",
    "user = User(id=12, name=\"Strange\", birthday_date=date(12, 3, 1))\n",
    "data = user.model_dump()\n",
    "data"
   ]
  },
  {
   "cell_type": "code",
   "execution_count": null,
   "metadata": {},
   "outputs": [],
   "source": []
  },
  {
   "cell_type": "code",
   "execution_count": null,
   "metadata": {},
   "outputs": [
    {
     "data": {
      "text/plain": [
       "datetime.date(12, 3, 1)"
      ]
     },
     "execution_count": 24,
     "metadata": {},
     "output_type": "execute_result"
    }
   ],
   "source": []
  },
  {
   "cell_type": "code",
   "execution_count": null,
   "metadata": {},
   "outputs": [],
   "source": []
  }
 ],
 "metadata": {
  "kernelspec": {
   "display_name": "file-storage-api-S0csbHaj-py3.13",
   "language": "python",
   "name": "python3"
  },
  "language_info": {
   "codemirror_mode": {
    "name": "ipython",
    "version": 3
   },
   "file_extension": ".py",
   "mimetype": "text/x-python",
   "name": "python",
   "nbconvert_exporter": "python",
   "pygments_lexer": "ipython3",
   "version": "3.13.2"
  }
 },
 "nbformat": 4,
 "nbformat_minor": 2
}
